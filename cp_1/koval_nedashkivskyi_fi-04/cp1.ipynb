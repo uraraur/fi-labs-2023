{
 "cells": [
  {
   "cell_type": "code",
   "execution_count": 130,
   "metadata": {},
   "outputs": [],
   "source": [
    "from math import log2\n",
    "from collections import Counter"
   ]
  },
  {
   "cell_type": "code",
   "execution_count": 131,
   "metadata": {},
   "outputs": [],
   "source": [
    "alp = ['а','б','в','г','д','е','ж','з','и','й','к','л','м','н','о','п','р','с','т','у','ф','х','ц','ч','ш','щ','ы','ь','э','ю','я',' ']\n",
    "\n",
    "name_f = 'krasa_ruskava_yazika.txt'\n",
    "\n",
    "def process_text(name):\n",
    "    f = open(name_f, 'r', encoding='utf-8')\n",
    "    text = f.read()\n",
    "    f.close()\n",
    "    text = text.lower()\n",
    "    text = text.replace('ъ', 'ь')\n",
    "    text = text.replace('ё', 'е')\n",
    "    text_n = \"\"\n",
    "    for l in text:\n",
    "        if l in alp:\n",
    "            text_n += l\n",
    "        else:\n",
    "           text_n += ' '\n",
    "    text_n =  \" \".join(text_n.split())\n",
    "    return text_n\n",
    "\n",
    "a = process_text('krasa_ruskava_yazika.txt')\n",
    "b = a.replace(' ', '')\n",
    "asort = sorted(Counter(a).values())\n",
    "bsort = sorted(Counter(b).values())"
   ]
  },
  {
   "cell_type": "code",
   "execution_count": 132,
   "metadata": {},
   "outputs": [
    {
     "name": "stdout",
     "output_type": "stream",
     "text": [
      "H_1 = 4.418118868286257\n",
      "H_1 with no spaces = 4.5052822751655155\n"
     ]
    }
   ],
   "source": [
    "h1 = 0\n",
    "for i in asort:\n",
    "    h1 += (-1)*(i/len(a))*log2(i/len(a))\n",
    "print(f\"H_1 = {h1}\")\n",
    "\n",
    "h1_no_spaces = 0\n",
    "for i in bsort:\n",
    "    h1_no_spaces += (-1)*(i/len(b))*log2(i/len(b))\n",
    "print(f\"H_1 with no spaces = {h1_no_spaces}\")\n",
    "\n"
   ]
  }
 ],
 "metadata": {
  "kernelspec": {
   "display_name": "Python 3",
   "language": "python",
   "name": "python3"
  },
  "language_info": {
   "codemirror_mode": {
    "name": "ipython",
    "version": 3
   },
   "file_extension": ".py",
   "mimetype": "text/x-python",
   "name": "python",
   "nbconvert_exporter": "python",
   "pygments_lexer": "ipython3",
   "version": "3.10.11"
  },
  "orig_nbformat": 4
 },
 "nbformat": 4,
 "nbformat_minor": 2
}
