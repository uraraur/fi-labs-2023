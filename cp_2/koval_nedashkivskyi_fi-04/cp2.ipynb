{
 "cells": [
  {
   "cell_type": "code",
   "execution_count": 692,
   "metadata": {},
   "outputs": [],
   "source": [
    "from collections import Counter\n",
    "\n",
    "i_m = 0.0553"
   ]
  },
  {
   "cell_type": "code",
   "execution_count": 693,
   "metadata": {},
   "outputs": [],
   "source": [
    "alp = ['а','б','в','г','д','е','ж','з','и','й','к','л','м','н','о','п','р','с','т','у','ф','х','ц','ч','ш','щ','ъ','ы','ь','э','ю','я']\n",
    "\n",
    "name_f = 'makeevskiyradnichok(((.txt'\n",
    "keys = [\"хз\", \"сво\", \"киев\", \"микки\", \"крейсермасква\"]\n",
    "\n",
    "def process_text(name):\n",
    "    f = open(name, 'r', encoding='utf-8')\n",
    "    text = f.read()\n",
    "    f.close()\n",
    "    text = text.lower()\n",
    "    text = text.replace('ё', 'е')\n",
    "    text_n = \"\"\n",
    "    for l in text:\n",
    "        if l in alp:\n",
    "            text_n += l\n",
    "        else:\n",
    "           text_n += ''\n",
    "    text_n =  \" \".join(text_n.split())\n",
    "    return text_n\n",
    "\n",
    "a = process_text(name_f)"
   ]
  },
  {
   "cell_type": "code",
   "execution_count": 694,
   "metadata": {},
   "outputs": [],
   "source": [
    "def code(text, key):\n",
    "    code = \"\"\n",
    "    for i in range(len(text)):\n",
    "        x = alp.index(text[i])\n",
    "        k = (alp.index(key[i % len(key)]))\n",
    "        y = (x + k) % 32\n",
    "        code += alp[y]\n",
    "    return code\n",
    "\n",
    "def decode(text, key):\n",
    "    code = \"\"\n",
    "    for i in range(len(text)):\n",
    "        x = alp.index(text[i])\n",
    "        k = (alp.index(key[i % len(key)]))\n",
    "        y = (x - k) % 32\n",
    "        code += alp[y]\n",
    "    return code\n"
   ]
  },
  {
   "cell_type": "code",
   "execution_count": 695,
   "metadata": {},
   "outputs": [
    {
     "name": "stdout",
     "output_type": "stream",
     "text": [
      "0.057478342981483764\n",
      "0.0428231505629129\n",
      "0.037792903031179326\n",
      "0.042332264093350544\n",
      "0.043369373325407745\n",
      "0.033394560263900565\n"
     ]
    }
   ],
   "source": [
    "def affi(text):\n",
    "    i = 0\n",
    "    for j in Counter(text).values():\n",
    "        i += j * (j - 1) \n",
    "    i = i / (len(text) * (len(text) - 1))\n",
    "    return i\n",
    "\n",
    "print(affi(a))\n",
    "for i in range(len(keys)):\n",
    "    print(affi(code(a, keys[i])))\n",
    "    "
   ]
  },
  {
   "cell_type": "code",
   "execution_count": 696,
   "metadata": {},
   "outputs": [
    {
     "data": {
      "text/plain": [
       "30"
      ]
     },
     "execution_count": 696,
     "metadata": {},
     "output_type": "execute_result"
    }
   ],
   "source": [
    "def search(text):\n",
    "    arr = []\n",
    "    for r in range(2, 31):\n",
    "        s = 0\n",
    "        block = \"\"\n",
    "        for i in range(r):\n",
    "            for j in range(i, len(text), r):\n",
    "                block += text[j]   \n",
    "            s += affi(block)\n",
    "            block = \"\"\n",
    "        arr.append(s/r)\n",
    "    arr = [abs(i_m - x) for x in arr]\n",
    "    return (arr.index(min(arr)) + 2)\n",
    "\n",
    "text = process_text('text.txt')\n",
    "search(text)\n"
   ]
  }
 ],
 "metadata": {
  "kernelspec": {
   "display_name": "Python 3",
   "language": "python",
   "name": "python3"
  },
  "language_info": {
   "codemirror_mode": {
    "name": "ipython",
    "version": 3
   },
   "file_extension": ".py",
   "mimetype": "text/x-python",
   "name": "python",
   "nbconvert_exporter": "python",
   "pygments_lexer": "ipython3",
   "version": "3.10.11"
  },
  "orig_nbformat": 4
 },
 "nbformat": 4,
 "nbformat_minor": 2
}
