{
 "cells": [
  {
   "cell_type": "code",
   "execution_count": 893,
   "metadata": {},
   "outputs": [],
   "source": [
    "from collections import Counter\n",
    "from tabulate import tabulate\n",
    "import matplotlib.pyplot as plt\n",
    "\n",
    "i_m = 0.053098482833127306\n",
    "e = 0.005"
   ]
  },
  {
   "attachments": {},
   "cell_type": "markdown",
   "metadata": {},
   "source": [
    "i_m обрахували за допомоги тексту з першої лабараторної, воно збігається з теоретичним з лекції"
   ]
  },
  {
   "cell_type": "code",
   "execution_count": 894,
   "metadata": {},
   "outputs": [],
   "source": [
    "alp = ['а','б','в','г','д','е','ж','з','и','й','к','л','м','н','о','п','р','с','т','у','ф','х','ц','ч','ш','щ','ъ','ы','ь','э','ю','я']\n",
    "\n",
    "name_f = 'makeevskiyradnichok(((.txt'\n",
    "keys = [\"хз\", \"сво\", \"киев\", \"микки\", \"крейсермасква\"]\n",
    "\n",
    "def process_text(name):\n",
    "    f = open(name, 'r', encoding='utf-8')\n",
    "    text = f.read()\n",
    "    f.close()\n",
    "    text = text.lower()\n",
    "    text = text.replace('ё', 'е')\n",
    "    text_n = \"\"\n",
    "    for l in text:\n",
    "        if l in alp:\n",
    "            text_n += l\n",
    "        else:\n",
    "           text_n += ''\n",
    "    text_n =  \" \".join(text_n.split())\n",
    "    return text_n\n",
    "\n",
    "a = process_text(name_f)"
   ]
  },
  {
   "cell_type": "code",
   "execution_count": 895,
   "metadata": {},
   "outputs": [],
   "source": [
    "def code(text, key):\n",
    "    code = \"\"\n",
    "    for i in range(len(text)):\n",
    "        x = alp.index(text[i])\n",
    "        k = (alp.index(key[i % len(key)]))\n",
    "        y = (x + k) % len(alp)\n",
    "        code += alp[y]\n",
    "    return code\n",
    "\n",
    "def decode(text, key):\n",
    "    code = \"\"\n",
    "    for i in range(len(text)):\n",
    "        x = alp.index(text[i])\n",
    "        k = (alp.index(key[i % len(key)]))\n",
    "        y = (x - k) % len(alp)\n",
    "        code += alp[y]\n",
    "    return code\n"
   ]
  },
  {
   "cell_type": "code",
   "execution_count": 896,
   "metadata": {},
   "outputs": [
    {
     "name": "stdout",
     "output_type": "stream",
     "text": [
      "0.057478342981483764\n"
     ]
    }
   ],
   "source": [
    "def affi(text):\n",
    "    i = 0\n",
    "    for j in Counter(text).values():\n",
    "        i += j * (j - 1) \n",
    "    i = i / (len(text) * (len(text) - 1))\n",
    "    return i\n",
    "\n",
    "print(affi(a))"
   ]
  },
  {
   "cell_type": "code",
   "execution_count": 897,
   "metadata": {},
   "outputs": [
    {
     "name": "stdout",
     "output_type": "stream",
     "text": [
      "╒════════════════════════════╤══════════════════╕\n",
      "│   Number of letters in key │   Affinity index │\n",
      "╞════════════════════════════╪══════════════════╡\n",
      "│                          2 │        0.0428232 │\n",
      "├────────────────────────────┼──────────────────┤\n",
      "│                          3 │        0.0377929 │\n",
      "├────────────────────────────┼──────────────────┤\n",
      "│                          4 │        0.0423323 │\n",
      "├────────────────────────────┼──────────────────┤\n",
      "│                          5 │        0.0433694 │\n",
      "├────────────────────────────┼──────────────────┤\n",
      "│                         13 │        0.0333946 │\n",
      "╘════════════════════════════╧══════════════════╛\n"
     ]
    },
    {
     "data": {
      "text/plain": [
       "<BarContainer object of 5 artists>"
      ]
     },
     "execution_count": 897,
     "metadata": {},
     "output_type": "execute_result"
    },
    {
     "data": {
      "image/png": "[encoded data removed]",
      "text/plain": [
       "<Figure size 640x480 with 1 Axes>"
      ]
     },
     "metadata": {},
     "output_type": "display_data"
    }
   ],
   "source": [
    "data1 = []\n",
    "col_names1 = [\"Number of letters in key\", \"Affinity index\"]\n",
    "af1 = []\n",
    "val1 = []\n",
    "\n",
    "for i in range(len(keys)):\n",
    "    af1.append(affi(code(a, keys[i])))\n",
    "    val1.append(len(keys[i]))\n",
    "    data1.append([len(keys[i]), af1[i]])\n",
    "    \n",
    "print(tabulate(data1, headers=col_names1, tablefmt=\"fancy_grid\"))\n",
    "plt.bar(val1, af1, color ='violet')"
   ]
  },
  {
   "cell_type": "code",
   "execution_count": 898,
   "metadata": {},
   "outputs": [
    {
     "name": "stdout",
     "output_type": "stream",
     "text": [
      "[15, 30]\n"
     ]
    }
   ],
   "source": [
    "data2 = []\n",
    "val2 = []\n",
    "\n",
    "text = process_text('text.txt')\n",
    "\n",
    "def search(text):\n",
    "    res = []\n",
    "    arr = []\n",
    "    for r in range(2, len(alp)):\n",
    "        #val2.append(r)\n",
    "        s = 0\n",
    "        block = \"\"\n",
    "        for i in range(r):\n",
    "            for j in range(i, len(text), r):\n",
    "                block += text[j]   \n",
    "            s += affi(block)\n",
    "            block = \"\"\n",
    "        arr.append(s/r)\n",
    "        #data2.append([val2[r-2], arr[r-2]])\n",
    "    arr1 = [abs(i_m - x) for x in arr]\n",
    "    for k in arr1:\n",
    "        if k < e:\n",
    "            res.append(arr1.index(k) + 2)\n",
    "    #print(tabulate(data2, headers=col_names1, tablefmt=\"fancy_grid\"))\n",
    "    #plt.bar(val2, arr, color ='violet')\n",
    "    return res\n",
    "\n",
    "k_l = search(text)\n",
    "print(k_l)"
   ]
  },
  {
   "cell_type": "code",
   "execution_count": 899,
   "metadata": {},
   "outputs": [
    {
     "name": "stdout",
     "output_type": "stream",
     "text": [
      "арудазевархимаг\n"
     ]
    },
    {
     "data": {
      "text/plain": [
       "'прошлошятнадцатьднейиътарыйдомпостепонноначаложиватесороклетвнемниутонежилпонастоищемузаэтовремячнсменилодиннадяатьхозяевноникыоизнихневыдержсвалвподобноммеътебольшетрехмеъяцевкреоливанеъсасталидвенадцйтымимагполностеюпогрузилсявракотуонотрывалсяыолькозатемчтобдпоестьаотснаизкавлялсязаклятиомбессонницынодфякреолаэтоявноцепроходилобезнйказанноглазауногопокраснелиавокинабряклииотвссливанессавсячоскистараласьубодитьеговтомчтоомуследуетпрекрйтитьиздевательътванадорганизмчмихотьразоквысшатьсяпонастоящомуномагтолькоомрызалсязанималъяондвумяделамицеутомимописалмйгическуюкнигуичкутывалособнякхагическойзащитчйитоидругоетрековалоуймывремециакреолникакнехогрешитьчтодляцегоболеесрочношоэтомузанималсиобоимиделамипошеременносначалйонвсерьезбеспоуоилсяотомчтозаогодушойвотвотялитсяужасныйтротнопотомутихомищилсярешивчтотоыскореевсегодажонезнаетовоскребениистаринноголрагапокрайнеймореванессаизбавсласьотдомашнихюлопотбраунихубортнеизменносохщаняяпостноевырйжениелицаубирафсяготовилиобстсрывалвсехжильцчвобедыиужиныуногополучалисьочоньвкуснымихотяланессенеслишкохнравилосьчтооныакналегаетнаэкротическиерецепыыповареннуюкнимукоторойонобычцопользовалсяосыавилвдомеодинирегопрежнихвладольцевзавзятыйгьрманоднакобылолполнесъедобносймажеванессазасьчиларукаваивплчтнуюзаняласьрромонтомпервоначйльноонапланиролалананятьбриганурабочихчтобыоципривелиэтотсащайвпорядокновсыалвопроскудавтйкомслучаедеватевесьэтотзоопарубольшаячастьжифьцовунормальномочеловекавызвафабывлучшемслучйесильноеудивлециепоэтомудевушуаделалавсесамалсечтобылонужночназаказывалапоыелефонуобоикраъкуклейпиломатещиалыстеклогвозниинструментыипщочиемелочивплоыьдодверныхручеуатакжегорукнижоквкоторыхтолколоразъяснялоськйксделатьвдомеромонтсобственныхирукамиксчастьздедванессыпомаыеринскойлиниибдлплотникомобожйлмастеритьвсепчдрядикоечемунаьчилвнучкутакчтчначинатьейпришфосьнеснуляестеътвенноводиночкьонамалочтосмогфабысотворитьтробовалисьпомощнскипреждевсегооцаконфисковалаууреолаамулетслумивотужкогдахруътальномуподросыкупришлосьпотрьдитьсяпонастоявемувонгонялаегчсутрадовечеранодаваяниминутырчздыхувпрочемонцевозражалоднакчонабыстроубедифасьчтоумагичесуогослугидействстельноимеетсяриднедостатковонрачастуюпонималщаспоряжениянесчвсемтаккактоткыоихотдавалкприхеруванессаприкйзалаемувыпилитерейкидляновойлостницывродебывъевпорядкеперваирейкаполучиласепростобезупречцойиванессаспокчйноотправиласьшитькофеонаверньласьчерезполчаъаиобнаружилачтчсовершилаужасньюошибкузабылауыочнитьточноекофичествонеобходсмыхейреекслугасзвелтричетвертсимеющихсяунеедчсокизавалилкомцатурейкамидопоыолкадевушкабылйвынужденазаказйтьновыедоскиилчмалатеперьгололукудадеватьстофькобесполезныхнеревянныхизделсйтройвотличиеоысвоегодальнегощодичаотличалсящедкимсластолюбсемидержалнетреючетырехналожниякактогдаещенеащхимагавсеголишемагистркреоланосколькосотенпрсчемменялонихочоньчастобольнаяэантазиямолодогчнекромантагубифаеголюбовницсупасающейскоростеюоднаждыонзаглинулвшахшаноркомдаегохозяинотсьтствовалкакужеьпоминалосьтогдйэтидвоеещеневрйждовалипоэтомуыроявстретиликаугостясделаввсеатобыродичхозяицачувствовалсебихорошоксожаленсюпослетогокакмйгплотноотобедафикакследуетвыпслемунаглазапопйласьоднаизрабыцьеслибыдомабылъамкреолилихотякыегоуправляющитбедыудалосьбыирбежатьнониктодщугойнеосмелилсиостановитьмагалозжелавшегопорйзвлечьсясневоленицейтройпробыфснейоколочасаиуогдавышелвеселчсообщилчтоондеълегкапопортилихуществосвоегорчдичаисобратапомильдиинопустьтчтнерасстраиваеысяонтройоставифвуплатузанеецефуюгорстьзолотыюйехровниктоизрйбовничутьнезабоспокоилсяслучатбылсамыйчтонинйестьзаурядныйашлатавтроепревыбаланормальнуюсыоимостьрабынидйжетакойкрасоткскактаэфиопскаяыанцовщицакоторьютройслегкапопчртиливсебыобошфосьеслибыеслибдрабынянеоказалйсьлюбимойналожцицейкреолаесликынетотфактчтооцаносилаподсердяемребенкабудущоговерховногомамаеслибынеточтопестокийивспыльаивыймагпожалуйодинственныйразлжизникоготоползбилкогдакреолворнулсядомойиувсделточтоещевчещабыломолодойкрйсивойженщинойоцвпалвтакоебешецствочторазрушифполовинусобствоннойкрепостнойътеныиперебилнехеньшетридцатирйбовприпадокещецезакончилсяамамужелетелвбуквафьномсмыслекхешсбудворцутроячтчбыпродолжитьраррушениетаманадчсказатьчтовтевщеменакреолужебдлоднимизсильнетшихмаговшумерайтройещенетнаслодующийденькогдйдомойвозвратилъяужетройпришлооговремяполучатешокотегодворцалпрочемкудаменьбегочемукреолаоъталисьлишьдымявиесяразвалиныкщеолразворотилкйменнуюгромадувпивыхнеосталосьциодногорабанионнойналожницывсоонипогиблиотогцяимолнийразгнеланногомагакогдйжетройобнаружифтелосвоегодесяыилетнегосынанелинныйребенокбыфутопленвбадьесщасплавленнымзофотомаемувроткроолзасунулмаленекуюглинянуютабфичкустремясловйминадеюсьплатаностаточнанадосуазатьчтокреолоаеньскорораскаяфсявсодеянномидйжепринесискупиыельнуюжертвунайлтареиштардоэтчгоднямагнеубилциодногоребенкаснепросторебенкйачленаодногоизъамыхименитыхроновимперииегосокственногоюныйэютатожеведьприхчдилсякреолуродътвенникомивотлсчиеотсвоегоотцйпереднимничемнопровинилсяноужоничегонельзябыфопоправитьеслираразрушенныйхебибиумерщвленныюрабовкреолмогзйплатитьвыкупубсйстворабавдревцемшумересчиталчсьмелкимпрестушлениемкотороепщиравнивалоськпчрчечужогоимущеътватосмертьсынйтройнепростилбдемунизакакиедецьгимолодоймагвчзненавиделродиаадоконцасвоихдцейаужненавидететоэтотчеловекухелкакниктодругчйсэтогоднятройпилоднойтолькомостьюразумеетсячннебросилсявлоковуюатакутройнобылдуракомипонсмалчтоскреоломомунетягатьсяонссчезизшумерапоатинатридцатьлеынокогдавернулсинеизвестногдеемоносилостолькофетновернулсяоньжеархимагомиочоньбыстрозанялбдлоеместоприимпораторскомдворешримернозагоддооговозвращениякщеолзанялпоствещховногомагаитрчйнемедленноприцялсяинтриговатепытаясьподсидеыьбывшегоприятефяатеперьсамогораклятоговрагавътречаясьвбашнемильдиикреолитрчйлюбезнорасклацивалисьпрячазаэальшивымиулыбкймизвериныеоскафывозвращаясьженомойонинемедлецнопринималисьсыроитькознидругшротивдругаособонностаралсятротзадвадцатьлеткщеолупришлосьпрскончитьстолькоцаемныхубийцчтосзнихможнобылосэормироватьнебофьшуюармиюсредицихпопадалисьсахыеразныетвариоыобычныхлюдейдохогущественныхдомоновособенноащтодуиартераидурапомнилсязомхоуобжуткоесущестлопохожеенаизурчдованногокальмйраразмеромсчетдрехслоновпосталленныхдругнадрьгакакужтроюудафосьдоговоритьсисэтиммонстромноизвестноновпробломгодуонвыполризевфратаисухихпутемдошелдосахогоурагигантбифсяокрепостныесыеныпочтидвоесуыокпокакреолполсвалегосотнямирйзрушительныхзаулятийточтовконяеконцовосталосеотчудовищаможнчбылозапихнутьвбкатулку'"
      ]
     },
     "execution_count": 899,
     "metadata": {},
     "output_type": "execute_result"
    }
   ],
   "source": [
    "def decypher(text, r):\n",
    "    y = []\n",
    "    k = []\n",
    "    key = \"\"\n",
    "    x = alp.index('о')\n",
    "    block = \"\"\n",
    "    for i in range(r):\n",
    "            for j in range(i, len(text), r):\n",
    "                block += text[j]\n",
    "            y.append(Counter(block).most_common(1)[0][0])\n",
    "            block = \"\"\n",
    "            for i in y:\n",
    "                k.append((alp.index(i) - x) % len(alp))\n",
    "            for j in k:\n",
    "                key += alp[j]\n",
    "            k.clear()\n",
    "            y.clear()\n",
    "    return key\n",
    "\n",
    "k = decypher(text, k_l[0])\n",
    "print(k)\n",
    "decode(text, k)\n"
   ]
  },
  {
   "attachments": {},
   "cell_type": "markdown",
   "metadata": {},
   "source": [
    "Отримали дешифрований текст, але бачимо, що кожна 7-ма літера не та, тому ми механічно змінимо ключ. \n",
    "Рудазев -> Рудазов "
   ]
  },
  {
   "cell_type": "code",
   "execution_count": 900,
   "metadata": {},
   "outputs": [
    {
     "data": {
      "text/plain": [
       "'прошлопятнадцатьднейистарыйдомпостепенноначаложиватьсороклетвнемниктонежилпонастоящемузаэтовремяонсменилодиннадцатьхозяевнониктоизнихневыдерживалвподобномместебольшетрехмесяцевкреоливанессасталидвенадцатымимагполностьюпогрузилсявработуонотрывалсятолькозатемчтобыпоестьаотснаизбавлялсязаклятиембессонницынодлякреолаэтоявнонепроходилобезнаказанноглазаунегопокраснелиавекинабряклииотвисливанессавсяческистараласьубедитьеговтомчтоемуследуетпрекратитьиздевательстванадорганизмомихотьразоквыспатьсяпонастоящемуномагтолькоогрызалсязанималсяондвумяделаминеутомимописалмагическуюкнигуиокутывалособнякмагическойзащитойитоидругоетребовалоуймывремениакреолникакнемогрешитьчтодлянегоболеесрочнопоэтомузанималсяобоимиделамипопеременносначалаонвсерьезбеспокоилсяотомчтозаегодушойвотвотявитсяужасныйтройнопотомутихомирилсярешивчтототскореевсегодаженезнаетовоскрешениистаринноговрагапокрайнеймереванессаизбавиласьотдомашниххлопотбраунихубертнеизменносохраняяпостноевыражениелицаубиралсяготовилиобстирывалвсехжильцовобедыиужиныунегополучалисьоченьвкуснымихотяванессенеслишкомнравилосьчтоонтакналегаетнаэкзотическиерецептыповареннуюкнигукоторойонобычнопользовалсяоставилвдомеодинизегопрежнихвладельцевзавзятыйгурманоднакобыловполнесъедобносамажеванессазасучиларукаваивплотнуюзаняласьрремонтомпервоначальноонапланировалананятьбригадурабочихчтобыонипривелиэтотсарайвпорядокновсталвопроскудавтакомслучаедеватьвесьэтотзоопаркбольшаячастьжильцовунормальногочеловекавызвалабывлучшемслучаесильноеудивлениепоэтомудевушкаделалавсесамавсечтобылонужнооназаказывалапотелефонуобоикраскуклейпиломатериалыстеклогвоздиинструментыипрочиемелочивплотьдодверныхручекатакжегорукнижеквкоторыхтолковоразъяснялоськаксделатьвдомеремонтсобственнымирукамиксчастьюдедванессыпоматеринскойлиниибылплотникомобожалмастеритьвсеподрядикоечемунаучилвнучкутакчтоначинатьейпришлосьнеснуляестественноводиночкуонамалочтосмоглабысотворитьтребовалисьпомощникипреждевсегоонаконфисковалаукреолаамулетслугивотужкогдахрустальномуподросткупришлосьпотрудитьсяпонастоящемувонгонялаегосутрадовечеранедаваяниминутыроздыхувпрочемонневозражалоднакоонабыстроубедиласьчтоумагическогослугидействительноимеетсяряднедостатковонзачастуюпонималраспоряжениянесовсемтаккактотктоихотдавалкпримеруванессаприказалаемувыпилитьрейкидляновойлестницывродебывсевпорядкеперваярейкаполучиласьпростобезупречнойиванессаспокойноотправиласьпитькофеонавернуласьчерезполчасаиобнаружилачтосовершилаужаснуюошибкузабылауточнитьточноеколичествонеобходимыхейреекслугаизвелтричетвертиимеющихсяунеедосокизавалилкомнатурейкамидопотолкадевушкабылавынужденазаказатьновыедоскииломалатеперьголовукудадеватьстолькобесполезныхдеревянныхизделийтройвотличиеотсвоегодальнегородичаотличалсяредкимсластолюбиемидержалнетрехчетырехналожницкактогдаещенеархимагавсеголишьмагистркреоланесколькосотенпричемменялонихоченьчастобольнаяфантазиямолодогонекромантагубилаеголюбовницсужасающейскоростьюоднаждыонзаглянулвшахшаноркогдаегохозяинотсутствовалкакужеупоминалосьтогдаэтидвоеещеневраждовалипоэтомутроявстретиликакгостясделаввсечтобыродичхозяиначувствовалсебяхорошоксожалениюпослетогокакмагплотноотобедаликакследуетвыпилемунаглазапопаласьоднаизрабыньеслибыдомабылсамкреолилихотябыегоуправляющийбедыудалосьбыизбежатьнониктодругойнеосмелилсяостановитьмагавозжелавшегопоразвлечьсясневольницейтройпробылснейоколочасаикогдавышелвеселосообщилчтоондеслегкапопортилимуществосвоегородичаисобратапогильдиинопустьтотнерасстраиваетсяонтройоставилвуплатузанеецелуюгорстьзолотыхйехровниктоизрабовничутьнезабеспокоилсяслучайбылсамыйчтонинаестьзаурядныйаплатавтроепревышаланормальнуюстоимостьрабынидажетакойкрасоткикактаэфиопскаятанцовщицакоторуютройслегкапопортиливсебыобошлосьеслибыеслибырабынянеоказаласьлюбимойналожницейкреолаеслибынетотфактчтоонаносилаподсердцемребенкабудущеговерховногомагаеслибынеточтожестокийивспыльчивыймагпожалуйединственныйразвжизникоготополюбилкогдакреолвернулсядомойиувиделточтоещевчерабыломолодойкрасивойженщинойонвпалвтакоебешенствочторазрушилполовинусобственнойкрепостнойстеныиперебилнеменьшетридцатирабовприпадокещенезакончилсяамагужелетелвбуквальномсмыслекхешибудворцутроячтобыпродолжитьразрушениетаманадосказатьчтовтевременакреолужебылоднимизсильнейшихмаговшумераатройещенетнаследующийденькогдадомойвозвратилсяужетройпришлоеговремяполучатьшокотегодворцавпрочемкудаменьшегочемукреолаосталисьлишьдымящиесяразвалиныкреолразворотилкаменнуюгромадувживыхнеосталосьниодногорабаниоднойналожницывсеонипогиблиотогняимолнийразгневанногомагакогдажетройобнаружилтелосвоегодесятилетнегосынаневинныйребенокбылутопленвбадьесрасплавленнымзолотомаемувроткреолзасунулмаленькуюглинянуютабличкустремясловаминадеюсьплатадостаточнанадосказатьчтокреолоченьскорораскаялсявсодеянномидажепринесискупительнуюжертвунаалтареиштардоэтогоднямагнеубилниодногоребенкаинепросторебенкаачленаодногоизсамыхименитыхродовимперииегособственногоюныйэхтатожеведьприходилсякреолуродственникомивотличиеотсвоегоотцапереднимничемнепровинилсяноуженичегонельзябылопоправитьеслизаразрушенныйхешибиумерщвленныхрабовкреолмогзаплатитьвыкупубийстворабавдревнемшумересчиталосьмелкимпреступлениемкотороеприравнивалоськпорчечужогоимуществатосмертьсынатройнепростилбыемунизакакиеденьгимолодоймагвозненавиделродичадоконцасвоихднейаужненавидетьтоэтотчеловекумелкакниктодругойсэтогоднятройжилоднойтолькоместьюразумеетсяоннебросилсявлобовуюатакутройнебылдуракомипонималчтоскреоломемунетягатьсяонисчезизшумерапочтинатридцатьлетнокогдавернулсянеизвестногдеегоносилостольколетновернулсяонужеархимагомиоченьбыстрозанялбылоеместоприимператорскомдворепримернозагоддоеговозвращениякреолзанялпостверховногомагаитройнемедленнопринялсяинтриговатьпытаясьподсидетьбывшегоприятеляатеперьсамогозаклятоговрагавстречаясьвбашнегильдиикреолитройлюбезнораскланивалисьпрячазафальшивымиулыбкамизвериныеоскалывозвращаясьжедомойонинемедленнопринималисьстроитькознидругпротивдругаособенностаралсятройзадвадцатьлеткреолупришлосьприкончитьстольконаемныхубийцчтоизнихможнобылосформироватьнебольшуюармиюсрединихпопадалисьсамыеразныетвариотобычныхлюдейдомогущественныхдемоновособенноартодуиартераидузапомнилсязомхокобжуткоесуществопохожеенаизуродованногокальмараразмеромсчетырехслоновпоставленныхдругнадругакакужтроюудалосьдоговоритьсясэтиммонстромнеизвестноновпрошломгодуонвыползизевфратаисухимпутемдошелдосамогоурагигантбилсяокрепостныестеныпочтидвоесутокпокакреолполивалегосотнямиразрушительныхзаклятийточтовконцеконцовосталосьотчудовищаможнобылозапихнутьвшкатулку'"
      ]
     },
     "execution_count": 900,
     "metadata": {},
     "output_type": "execute_result"
    }
   ],
   "source": [
    "k = k[:6] + 'о' + k[7:]\n",
    "\n",
    "decode(text, k)"
   ]
  },
  {
   "cell_type": "code",
   "execution_count": 901,
   "metadata": {},
   "outputs": [
    {
     "name": "stdout",
     "output_type": "stream",
     "text": [
      "арудазовархимаг\n"
     ]
    }
   ],
   "source": [
    "h = process_text('krasa_ruskava_yazika.txt') #великий текст з першої лаби\n",
    "h1 =  Counter(h)\n",
    "\n",
    "def m(text, r):\n",
    "    block = \"\"\n",
    "    m = []\n",
    "    l = \"\"\n",
    "    m_i = 0\n",
    "    v = []\n",
    "    for i in range(r):\n",
    "        for j in range(i, len(text), r):\n",
    "                block += text[j]\n",
    "        c = Counter(block)\n",
    "        c_k = sorted(Counter(block).keys())\n",
    "        for g in alp:\n",
    "            for t in alp:\n",
    "                p = alp[(alp.index(t) + alp.index(g)) % len(alp)]\n",
    "                if p not in c_k:\n",
    "                    m_i += 0\n",
    "                else:\n",
    "                    m_i += (h1[t] / len(h)) * c[p]\n",
    "            m.append(m_i) \n",
    "            m_i = 0\n",
    "        v.append(m.index(max(m)))\n",
    "        m.clear()\n",
    "        block = \"\"\n",
    "    for i in v: \n",
    "        l += alp[i]    \n",
    "    return (l)\n",
    "\n",
    "print(m(text, 15))"
   ]
  }
 ],
 "metadata": {
  "kernelspec": {
   "display_name": "Python 3",
   "language": "python",
   "name": "python3"
  },
  "language_info": {
   "codemirror_mode": {
    "name": "ipython",
    "version": 3
   },
   "file_extension": ".py",
   "mimetype": "text/x-python",
   "name": "python",
   "nbconvert_exporter": "python",
   "pygments_lexer": "ipython3",
   "version": "3.10.11"
  },
  "orig_nbformat": 4
 },
 "nbformat": 4,
 "nbformat_minor": 2
}
