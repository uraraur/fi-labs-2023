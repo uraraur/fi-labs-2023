{
 "cells": [
  {
   "cell_type": "code",
   "execution_count": 141,
   "metadata": {},
   "outputs": [],
   "source": [
    "from math import log2\n",
    "from collections import Counter\n",
    "import pandas as pd\n",
    "pd.set_option('display.max_rows', None)\n",
    "\n",
    "pd.set_option('display.max_columns', None)\n",
    "\n",
    "pd.set_option('display.width', 500)\n",
    "\n",
    "pd.set_option('display.colheader_justify', 'left')\n",
    "\n",
    "pd.set_option('display.precision', 5)"
   ]
  },
  {
   "cell_type": "code",
   "execution_count": 142,
   "metadata": {},
   "outputs": [],
   "source": [
    "alp = ['а','б','в','г','д','е','ж','з','и','й','к','л','м','н','о','п','р','с','т','у','ф','х','ц','ч','ш','щ','ы','ь','э','ю','я',' ']\n",
    "\n",
    "name_f = 'krasa_ruskava_yazika.txt'\n",
    "\n",
    "def process_text(name):\n",
    "    f = open(name_f, 'r', encoding='utf-8')\n",
    "    text = f.read()\n",
    "    f.close()\n",
    "    text = text.lower()\n",
    "    text = text.replace('ъ', 'ь')\n",
    "    text = text.replace('ё', 'е')\n",
    "    text_n = \"\"\n",
    "    for l in text:\n",
    "        if l in alp:\n",
    "            text_n += l\n",
    "        else:\n",
    "           text_n += ' '\n",
    "    text_n =  \" \".join(text_n.split())\n",
    "    return text_n\n",
    "\n",
    "a = process_text('krasa_ruskava_yazika.txt')\n",
    "b = a.replace(' ', '')\n",
    "##print(Counter(a))\n",
    "asort = sorted(Counter(a).values())\n",
    "bsort = sorted(Counter(b).values())"
   ]
  },
  {
   "cell_type": "code",
   "execution_count": 143,
   "metadata": {},
   "outputs": [
    {
     "name": "stdout",
     "output_type": "stream",
     "text": [
      "H_1 = 4.418118868286257\n",
      "H_1 without spaces = 4.5052822751655155\n"
     ]
    }
   ],
   "source": [
    "def calc(sort, text):\n",
    "    h = 0\n",
    "    for i in sort:\n",
    "        if i/len(text) != 0:\n",
    "            h += (-1)*(i/len(text))*log2(i/len(text))\n",
    "    return h\n",
    "\n",
    "h1 = calc(asort, a)\n",
    "print(f\"H_1 = {h1}\")\n",
    "\n",
    "h1_no_spaces = calc(bsort, b)\n",
    "print(f\"H_1 without spaces = {h1_no_spaces}\")"
   ]
  },
  {
   "cell_type": "code",
   "execution_count": 144,
   "metadata": {},
   "outputs": [
    {
     "name": "stdout",
     "output_type": "stream",
     "text": [
      "H_2 = 4.027987723104518\n",
      "H_2 without spaces = 4.201011933252907\n"
     ]
    }
   ],
   "source": [
    "def table(data):\n",
    "    df = pd.DataFrame(data, columns = alp, index = alp)    \n",
    "    for i in range(len(alp)):  \n",
    "        for j in range(len(alp)):\n",
    "            for k in data.keys():\n",
    "                if (str(df.index[i]) + str(df.columns[j])) == k:\n",
    "                    df.loc[alp[i], alp[j]] = data[k]\n",
    "    df.dropna                \n",
    "    return df\n",
    "\n",
    "def int_bigrams(text):\n",
    "    count = {}\n",
    "    p = text[0]\n",
    "    for i in alp:\n",
    "        for j in alp:\n",
    "            count[i + j] = 0\n",
    "    for l in text[1:]:\n",
    "        bigr = p + l\n",
    "        count[p + l] += 1\n",
    "        p = l\n",
    "    #print(table(count))\n",
    "    return count\n",
    "\n",
    "h2 = calc(int_bigrams(a).values(), a) / 2\n",
    "print(f\"H_2 = {h2}\")\n",
    "\n",
    "\n",
    "def int_bigrams_without_sp(text):\n",
    "    count = {}\n",
    "    p = text[0]\n",
    "    for i in alp[:-1]:\n",
    "        for j in alp[:-1]:\n",
    "            count[i + j] = 0\n",
    "    for l in text[1:]:\n",
    "        bigr = p + l\n",
    "        count[p + l] += 1\n",
    "        p = l\n",
    "    #print(table(count))\n",
    "    return count\n",
    "\n",
    "h2_no_spaces = calc(int_bigrams(b).values(), b) / 2\n",
    "print(f\"H_2 without spaces = {h2_no_spaces}\")\n",
    "\n"
   ]
  }
 ],
 "metadata": {
  "kernelspec": {
   "display_name": "Python 3",
   "language": "python",
   "name": "python3"
  },
  "language_info": {
   "codemirror_mode": {
    "name": "ipython",
    "version": 3
   },
   "file_extension": ".py",
   "mimetype": "text/x-python",
   "name": "python",
   "nbconvert_exporter": "python",
   "pygments_lexer": "ipython3",
   "version": "3.10.11"
  },
  "orig_nbformat": 4
 },
 "nbformat": 4,
 "nbformat_minor": 2
}
