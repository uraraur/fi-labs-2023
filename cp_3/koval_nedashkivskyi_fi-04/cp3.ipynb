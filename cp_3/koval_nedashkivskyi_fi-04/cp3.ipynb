{
 "cells": [
  {
   "cell_type": "code",
   "execution_count": 203,
   "metadata": {},
   "outputs": [],
   "source": [
    "import pandas as pd\n",
    "import operator"
   ]
  },
  {
   "cell_type": "code",
   "execution_count": 204,
   "metadata": {},
   "outputs": [
    {
     "name": "stdout",
     "output_type": "stream",
     "text": [
      "[('вм', 52), ('мь', 45), ('кч', 40), ('жг', 34), ('йв', 32)]\n"
     ]
    }
   ],
   "source": [
    "alp = ['а','б','в','г','д','е','ж','з','и','й','к','л','м','н','о','п','р','с','т','у','ф','х','ц','ч','ш','щ','ы','ь','э','ю','я',' ']\n",
    "\n",
    "name_f = 'V7 (1).txt'\n",
    "f = open(name_f, 'r', encoding='utf-8')\n",
    "text = f.read()\n",
    "f.close()\n",
    "\n",
    "def bigrams_without_sp(text):\n",
    "    count = {}\n",
    "    t = 1\n",
    "    while t < len(text):\n",
    "        p = text[t - 1]\n",
    "        l = text[t]\n",
    "        if (p + l) not in count:\n",
    "            count[p + l] = 1\n",
    "        if (p + l) in count:  \n",
    "            count[p + l] = count[p + l] + 1\n",
    "        t = t + 2\n",
    "    return count\n",
    "\n",
    "a = sorted(bigrams_without_sp(text).items(), key=lambda x:x[1], reverse = True)\n",
    "fr_bigrams = a[0:5]\n",
    "print(fr_bigrams)"
   ]
  },
  {
   "cell_type": "code",
   "execution_count": 205,
   "metadata": {},
   "outputs": [],
   "source": [
    "def gcd(a, b):\n",
    "    if a == 0:\n",
    "        return b, 0, 1\n",
    "    if b == 0:\n",
    "        return a, 1, 0\n",
    "    else:\n",
    "        r_0, r_1 = a, b \n",
    "        u_0, u_1 = 1, 0\n",
    "        v_0, v_1 = 0, 1\n",
    "\n",
    "        while r_1 != 0:\n",
    "            q = r_0 // r_1\n",
    "            r_0, r_1 = r_1, r_0 - q*r_1\n",
    "            u_0, u_1 = u_1, u_0 - q*u_1\n",
    "            v_0, v_1 = v_1, v_0 - q*v_1\n",
    "\n",
    "    return r_0, u_0, v_0\n",
    "\n",
    "def inv(a, b):\n",
    "    return gcd(a, b)[1]\n",
    "\n",
    "def mod_comp(a, b, n):\n",
    "    d = gcd(a, n)[0]\n",
    "    s = []\n",
    "\n",
    "    if d == 1:\n",
    "        return (inv(a, n) * b) % n\n",
    "    elif b % d != 0: \n",
    "        return \"No solutions.\"\n",
    "    else:\n",
    "        a = a / d\n",
    "        b = b / d\n",
    "        n = n / d\n",
    "        x_0 = (inv(a, n) * b) % n\n",
    "\n",
    "        for i in range(0, d):\n",
    "            s.append(x_0 + i * n)\n",
    "\n",
    "        return s\n"
   ]
  }
 ],
 "metadata": {
  "kernelspec": {
   "display_name": "Python 3",
   "language": "python",
   "name": "python3"
  },
  "language_info": {
   "codemirror_mode": {
    "name": "ipython",
    "version": 3
   },
   "file_extension": ".py",
   "mimetype": "text/x-python",
   "name": "python",
   "nbconvert_exporter": "python",
   "pygments_lexer": "ipython3",
   "version": "3.10.11"
  },
  "orig_nbformat": 4
 },
 "nbformat": 4,
 "nbformat_minor": 2
}
