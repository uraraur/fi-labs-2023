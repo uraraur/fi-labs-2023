{
 "cells": [
  {
   "cell_type": "code",
   "execution_count": 46,
   "metadata": {},
   "outputs": [],
   "source": [
    "def gcd(a, b):\n",
    "    if a == 0:\n",
    "        return b, 0, 1\n",
    "    if b == 0:\n",
    "        return a, 1, 0\n",
    "    else:\n",
    "        r_0, r_1 = a, b \n",
    "        u_0, u_1 = 1, 0\n",
    "        v_0, v_1 = 0, 1\n",
    "\n",
    "        while r_1 != 0:\n",
    "            q = r_0 // r_1\n",
    "            r_0, r_1 = r_1, r_0 - q*r_1\n",
    "            u_0, u_1 = u_1, u_0 - q*u_1\n",
    "            v_0, v_1 = v_1, v_0 - q*v_1\n",
    "\n",
    "    return r_0, u_0, v_0\n",
    "\n",
    "def inv(a, b):\n",
    "    return gcd(a, b)[1]\n",
    "\n",
    "def mod_comp(a, b, n):\n",
    "    d = gcd(a, n)[0]\n",
    "    s = []\n",
    "    if d == 1:\n",
    "        return (inv(a, n) * b) % n\n",
    "    elif b % d != 0: \n",
    "        return \"No solutions.\"\n",
    "    else:\n",
    "        a = a / d\n",
    "        b = b / d\n",
    "        n = n / d\n",
    "        x_0 = (inv(a, n) * b) % n\n",
    "        for i in range(0, d):\n",
    "            s.append(x_0 + i * n)\n",
    "        return s\n"
   ]
  }
 ],
 "metadata": {
  "kernelspec": {
   "display_name": "Python 3",
   "language": "python",
   "name": "python3"
  },
  "language_info": {
   "codemirror_mode": {
    "name": "ipython",
    "version": 3
   },
   "file_extension": ".py",
   "mimetype": "text/x-python",
   "name": "python",
   "nbconvert_exporter": "python",
   "pygments_lexer": "ipython3",
   "version": "3.10.11"
  },
  "orig_nbformat": 4
 },
 "nbformat": 4,
 "nbformat_minor": 2
}
