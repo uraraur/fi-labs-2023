{
 "cells": [
  {
   "cell_type": "code",
   "execution_count": 202,
   "metadata": {},
   "outputs": [],
   "source": [
    "from collections import Counter"
   ]
  },
  {
   "cell_type": "code",
   "execution_count": 203,
   "metadata": {},
   "outputs": [],
   "source": [
    "alp = ['а','б','в','г','д','е','ж','з','и','й','к','л','м','н','о','п','р','с','т','у','ф','х','ц','ч','ш','щ','ы','ь','э','ю','я']\n",
    "\n",
    "name_f = 'makeevskiyradnichok(((.txt'\n",
    "keys = [\"хз\", \"сво\", \"киев\", \"микки\", \"крейсермасква\"]\n",
    "\n",
    "def process_text(name):\n",
    "    f = open(name, 'r', encoding='utf-8')\n",
    "    text = f.read()\n",
    "    f.close()\n",
    "    text = text.lower()\n",
    "    text = text.replace('ъ', 'ь')\n",
    "    text = text.replace('ё', 'е')\n",
    "    text_n = \"\"\n",
    "    for l in text:\n",
    "        if l in alp:\n",
    "            text_n += l\n",
    "        else:\n",
    "           text_n += ''\n",
    "    text_n =  \" \".join(text_n.split())\n",
    "    return text_n\n",
    "\n",
    "a = process_text(name_f)"
   ]
  },
  {
   "cell_type": "code",
   "execution_count": 204,
   "metadata": {},
   "outputs": [],
   "source": [
    "def code(text, key):\n",
    "    code = \"\"\n",
    "    for i in range(len(text)):\n",
    "        x = alp.index(text[i])\n",
    "        k = (alp.index(key[i % len(key)]))\n",
    "        y = (x + k) % 31\n",
    "        code += alp[y]\n",
    "    return code\n",
    "\n",
    "def decode(text, key):\n",
    "    code = \"\"\n",
    "    for i in range(len(text)):\n",
    "        x = alp.index(text[i])\n",
    "        k = (alp.index(key[i % len(key)]))\n",
    "        y = (x - k) % 31\n",
    "        code += alp[y]\n",
    "    return code\n"
   ]
  },
  {
   "cell_type": "code",
   "execution_count": 205,
   "metadata": {},
   "outputs": [
    {
     "name": "stdout",
     "output_type": "stream",
     "text": [
      "0.057478342981483764\n",
      "0.042782094603640415\n",
      "0.03854619063174411\n",
      "0.042596450266060466\n",
      "0.04343006474346273\n",
      "0.034035390236892886\n"
     ]
    }
   ],
   "source": [
    "def affi(text):\n",
    "    i = 0\n",
    "    for j in Counter(text).values():\n",
    "        i += j * (j - 1) \n",
    "    i = i / (len(text) * (len(text) - 1))\n",
    "    return i\n",
    "\n",
    "print(affi(a))\n",
    "for i in range(len(keys)):\n",
    "    print(affi(code(a, keys[i])))\n",
    "    "
   ]
  },
  {
   "cell_type": "code",
   "execution_count": null,
   "metadata": {},
   "outputs": [],
   "source": []
  }
 ],
 "metadata": {
  "kernelspec": {
   "display_name": "Python 3",
   "language": "python",
   "name": "python3"
  },
  "language_info": {
   "codemirror_mode": {
    "name": "ipython",
    "version": 3
   },
   "file_extension": ".py",
   "mimetype": "text/x-python",
   "name": "python",
   "nbconvert_exporter": "python",
   "pygments_lexer": "ipython3",
   "version": "3.10.11"
  },
  "orig_nbformat": 4
 },
 "nbformat": 4,
 "nbformat_minor": 2
}
