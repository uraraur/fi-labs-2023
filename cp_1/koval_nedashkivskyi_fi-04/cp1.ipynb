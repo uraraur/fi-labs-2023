{
 "cells": [
  {
   "cell_type": "code",
   "execution_count": 9,
   "metadata": {},
   "outputs": [],
   "source": [
    "from math import log2\n",
    "from collections import Counter\n",
    "import pandas as pd\n",
    "pd.set_option('display.max_rows', None)\n",
    "\n",
    "pd.set_option('display.max_columns', None)\n",
    "\n",
    "pd.set_option('display.width', 500)\n",
    "\n",
    "pd.set_option('display.colheader_justify', 'left')\n",
    "\n",
    "pd.set_option('display.precision', 5)"
   ]
  },
  {
   "cell_type": "code",
   "execution_count": 10,
   "metadata": {},
   "outputs": [],
   "source": [
    "alp = ['а','б','в','г','д','е','ж','з','и','й','к','л','м','н','о','п','р','с','т','у','ф','х','ц','ч','ш','щ','ы','ь','э','ю','я',' ']\n",
    "\n",
    "name_f = 'krasa_ruskava_yazika.txt'\n",
    "\n",
    "def process_text(name):\n",
    "    f = open(name_f, 'r', encoding='utf-8')\n",
    "    text = f.read()\n",
    "    f.close()\n",
    "    text = text.lower()\n",
    "    text = text.replace('ъ', 'ь')\n",
    "    text = text.replace('ё', 'е')\n",
    "    text_n = \"\"\n",
    "    for l in text:\n",
    "        if l in alp:\n",
    "            text_n += l\n",
    "        else:\n",
    "           text_n += ' '\n",
    "    text_n =  \" \".join(text_n.split())\n",
    "    return text_n\n",
    "\n",
    "a = process_text('krasa_ruskava_yazika.txt')\n",
    "b = a.replace(' ', '')\n",
    "##print(Counter(a))\n",
    "asort = sorted(Counter(a).values())\n",
    "bsort = sorted(Counter(b).values())"
   ]
  },
  {
   "cell_type": "code",
   "execution_count": 11,
   "metadata": {},
   "outputs": [
    {
     "name": "stdout",
     "output_type": "stream",
     "text": [
      "H_1 = 4.418118868286257\n",
      "H_1 with no spaces = 4.5052822751655155\n"
     ]
    }
   ],
   "source": [
    "h1 = 0\n",
    "for i in asort:\n",
    "    h1 += (-1)*(i/len(a))*log2(i/len(a))\n",
    "print(f\"H_1 = {h1}\")\n",
    "\n",
    "h1_no_spaces = 0\n",
    "for i in bsort:\n",
    "    h1_no_spaces += (-1)*(i/len(b))*log2(i/len(b))\n",
    "print(f\"H_1 with no spaces = {h1_no_spaces}\")"
   ]
  },
  {
   "cell_type": "code",
   "execution_count": 12,
   "metadata": {},
   "outputs": [
    {
     "name": "stdout",
     "output_type": "stream",
     "text": [
      "  а     б     в      г     д     е     ж     з     и     й     к     л     м     н      о     п      р     с      т     у     ф     х     ц    ч     ш    щ    ы     ь     э     ю    я           \n",
      "а     6   769   2425   549  1052  1304   833  1951   126   539  3375  3862  1773   3821    29    597  3001   2241  4554    98   272   736  353  1317  453  204     0     0    17  595  1210  12253\n",
      "б  1445    15     46     8     6  1491    22    37   838     0   105  1106    23    280  1860      0  1097    283     5   931     0    80    1     2    4  275  1179   255    18    3   265   1345\n",
      "в  4591    11     45    19   193  3223     1   142  2015     0   253   637   129    863  3981     85   532   1433   396   479    27    20    7    36  188   10  1875   156     1    1   233   7265\n",
      "г   753     3     32    15   431   315     0     0   816     0    13   508    25    118  4869      1  1183      7     4   307     0     3    0     9    3    0     0     3     0    0     0    515\n",
      "д  3250    12    405    24    27  3443    38    32  1947     0   204   664    54   1097  2064     87   816    345    73   968     0    40   76    17   52    4   322   375     0   37   236   1018\n",
      "е    64  1601   1854  1589  2200   781   530   899   148  1542  1989  3742  3084   6747   354    653  4363   3533  3970   124    32   374  342   753  670  225     0     0     2  160   122  11659\n",
      "ж   539    11      1     2   501  2184     6     0   957     0    42     9     3    606   284      0    24     47     1   200     0     2    1   122    0    0     0    38     1    1     0    178\n",
      "з  2509   133    406    94  1073   272    18    11   294     0    87   246   407   1512   432      1   217    107    19   270     0     1    1     3    0    0   612   190     2    4    89   1332\n",
      "и   454   709   1320   368   932  1960   153  2152   873  1826  1912  2598  2436   3145   607    197   942   2028  3548    70   224  1251  725  1635  520  136     4     0     1  239  2445  11819\n",
      "й     2     5      4     2   109     4     0     5     0     3    53    18    41    241    15      5     2    482    97     0    12    11   51    47   61    1     0     0     1    0     1  10392\n",
      "к  5048     1    146     4    39   500   109    10  3610     0    12   632     8    164  6399      3   802   1215   943  1340     7    19   89     7   17    0    10     3     4    3     2   3854\n",
      "л  2959    71     12    85    90  3375    95     2  4629     0   336   242    22    257  4611      8     0    476    51   949    24     9    0    31    7   31   300  3695     1  823  1530   2617\n",
      "м  2430    41     38     6     0  2815     2     2  1652     0    34    99   179    782  2562     76     6     74     5  1525    10     9    9    20    1    0   820    29     1    3   453   6374\n",
      "н  7334   716     12    79   342  6359    12   151  6614     0   626     0     1   2239  7241      1    39    764   982  1108    88     5  304   145   20   64  3690   775    17   98   798   2178\n",
      "о    36  2813   7663  3501  3105  1345  1320   881   422  2548  1292  4432  3197   3077   260   1485  4585   4628  4216    62   182   381  207  1735  489  122     0     0   144  187   427  11582\n",
      "п  1064   113      0     0     1  1501     0     0  1326     0    50   488     0     53  6524     99  4724    123    47   534     3     0   10    13   17    1   217    74     0    7   168    253\n",
      "р  6081   138    286   226   230  4578   256    32  3636     1   808   252   493   1597  4444     86    41    216   505  2173    15   111   46    39  372   11   703   505     6  111   684   2715\n",
      "с  1154    70    663    35   107  2367     1     2  1600     0  3489  2735   596    654  3851   1518   552   1133  8381  1016   127    85  145   108   77    1   243  1012     2  108  2086   2703\n",
      "т  3962    22   2029    10    91  4257     2     2  3039     0   433    96    35   1211  6895     18  2366   1271   102  1271     4    30   39    69    2    9  1196  4944     3   55   258   5290\n",
      "у   399   432    219   467  1131   720   915   322    74  3620   800   581   427    442     4    925   701   1158   906     6   103   250   31   598  650  224     6     0    16  866   851   4207\n",
      "ф   273     0      0     0     0   323     0     0   370     0     2   114   104      5   769      0   350      5    12   211    15     0    0     0    0    0     3    92     1    3     1    143\n",
      "х   456     2     99     0     2    57     0    35   210     0     1    63    39    113  1137      5   102     23    38  5208     0     2    1     5    2    0     0     2     3    1     8   3120\n",
      "ц   456     0     27     0     0   836     0     0  1181     0    66     3     5      1    71      0     0      0     1    85     0     0    1     0    1    0   134     0     0    0     6    302\n",
      "ч  1534     0      4     0     0  3462     0     0  1538     0   327    37     2    750    67      0    13      0  1356   310     0     0    0     1   53    0     1   290     0    0     0    786\n",
      "ш   433     1     15     0     0  1165     0     0   920     0   717   193    13    176   160     15     4      2   100   181     0     2    1     0    0    0     0   601     1    0     0    100\n",
      "щ   206     0      0     0     0  1222     0     0   642     0     0     0     1     12     1      0     4      0     0   108     0     0    0     0    0    0     0    18     0    0     0     29\n",
      "ы     0    97    540    91    84  1109    14    59     7  1485   355   515   789    184     4    156   522    366   405     1     0  1323    4   113  174    8     0     0     0    0    19   2894\n",
      "ь     0   128     20    49    25   651     0   109   114     0   754     5   265   1542     3      6     4    660   164     1     7    16   30    33  297    1     0     0     0  258   542   7387\n",
      "э     0     9     28     1   119     0     3    24     0    13   126    57    76     92     2     48   166     18  1005     0     5     5    0     0    4    0     0     0     0    0    18    162\n",
      "ю     3   292      2    14   214    10     9    22     0     3    20    29    18     32     0      5    64     87   364     0     2    22   10   166   39  558     0     0     0   10     0   1872\n",
      "я     0    26    201    58   387   276    43   397     8    51   274   177   390    388     0     45    90    365  1065     3     0   228   53   147   15  279     0     0     0  128    37   8765\n",
      "   2874  4784  10305  2637  5236  2201  1378  3063  7623    34  6445  3198  5422  10601  6824  11285  4084  13531  5696  2512  1637  5719  639  3360  612   79     3    14  1739  166  1408      0\n"
     ]
    }
   ],
   "source": [
    "def table(data):\n",
    "    df = pd.DataFrame(data, columns = alp, index = alp)    \n",
    "    for i in range(len(alp)):  \n",
    "        for j in range(len(alp)):\n",
    "            for k in data.keys():\n",
    "                if (str(df.index[i]) + str(df.columns[j])) == k:\n",
    "                    df.loc[alp[i], alp[j]] = data[k]\n",
    "    df.dropna                \n",
    "    return df\n",
    "\n",
    "def int_bigrams(text):\n",
    "    count = {}\n",
    "    p = text[0]\n",
    "    for i in alp:\n",
    "        for j in alp:\n",
    "            count[i + j] = 0\n",
    "    for l in text[1:]:\n",
    "        bigr = p + l\n",
    "        count[p + l] += 1\n",
    "        p = l\n",
    "    t = table(count)\n",
    "    print(t)\n",
    "    pd.reset_option('display.max_rows')\n",
    "    return count\n",
    "\n",
    "bbbb = int_bigrams(a)\n",
    "\n",
    "\n",
    "\n",
    "\n",
    "\n",
    "\n",
    "def int_bigrams_without_sp(text):\n",
    "    count = {}\n",
    "    p = text[0]\n",
    "    for i in alp[:-1]:\n",
    "        for j in alp[:-1]:\n",
    "            count[i + j] = 0\n",
    "    for l in text[1:]:\n",
    "        bigr = p + l\n",
    "        count[p + l] += 1\n",
    "        p = l\n",
    "    return count.items()\n",
    "\n",
    "##sorted(count.items(), key=lambda x:x[1], reverse = True) \n",
    "\n",
    "##df = pd.DataFrame(count.items(), columns = alp)\n",
    "\n",
    "\n",
    "\n",
    "\n",
    "\n",
    "\n",
    "\n",
    "\n",
    "\n",
    "\n"
   ]
  },
  {
   "cell_type": "code",
   "execution_count": null,
   "metadata": {},
   "outputs": [],
   "source": []
  }
 ],
 "metadata": {
  "kernelspec": {
   "display_name": "Python 3",
   "language": "python",
   "name": "python3"
  },
  "language_info": {
   "codemirror_mode": {
    "name": "ipython",
    "version": 3
   },
   "file_extension": ".py",
   "mimetype": "text/x-python",
   "name": "python",
   "nbconvert_exporter": "python",
   "pygments_lexer": "ipython3",
   "version": "3.10.11"
  },
  "orig_nbformat": 4
 },
 "nbformat": 4,
 "nbformat_minor": 2
}
